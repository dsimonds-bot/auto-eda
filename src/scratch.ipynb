{
 "cells": [
  {
   "cell_type": "code",
   "execution_count": 2,
   "metadata": {},
   "outputs": [],
   "source": [
    "# Package Import\n",
    "from data_import import rawData\n",
    "from visuals import make_boxplots, make_histograms\n",
    "from utilities import mk_assets_dir, rm_dir\n",
    "\n",
    "# Testing\n",
    "mk_assets_dir()\n",
    "make_boxplots(rawData)\n",
    "make_histograms(rawData)"
   ]
  },
  {
   "cell_type": "code",
   "execution_count": 3,
   "metadata": {},
   "outputs": [],
   "source": [
    "# Cleaning\n",
    "rm_dir('assets')\n",
    "\n",
    "class Dave:\n",
    "    is_chromie = True\n",
    "\n",
    "if Dave.is_chromie:\n",
    "    print(\"mehoy minoy\")"
   ]
  }
 ],
 "metadata": {
  "kernelspec": {
   "display_name": "base",
   "language": "python",
   "name": "python3"
  },
  "language_info": {
   "codemirror_mode": {
    "name": "ipython",
    "version": 3
   },
   "file_extension": ".py",
   "mimetype": "text/x-python",
   "name": "python",
   "nbconvert_exporter": "python",
   "pygments_lexer": "ipython3",
   "version": "3.11.0"
  },
  "orig_nbformat": 4
 },
 "nbformat": 4,
 "nbformat_minor": 2
}
