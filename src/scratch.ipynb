{
 "cells": [
  {
   "cell_type": "code",
   "execution_count": 5,
   "metadata": {},
   "outputs": [
    {
     "data": {
      "text/plain": [
       "'\\nTODO\\n'"
      ]
     },
     "execution_count": 5,
     "metadata": {},
     "output_type": "execute_result"
    }
   ],
   "source": [
    "# Package Import\n",
    "import matplotlib.pyplot as plt\n",
    "import matplotlib.style as style\n",
    "import numpy as np\n",
    "style.use('ggplot')\n",
    "\n",
    "from data_import import rawData\n",
    "from visuals import make_boxplots\n",
    "\n",
    "# Make fake data\n",
    "rawData['fake'] = np.random.randint(0,100,len(rawData))\n",
    "\n",
    "# Test Boxplot function\n",
    "make_boxplots(rawData)\n",
    "\n",
    "# TODO\n",
    "# Today I finished the boxplots\n",
    "# tomorrow I want to customize them\n",
    "# todays challenge was remembering what I made that damn dictionary\n",
    "\n"
   ]
  },
  {
   "cell_type": "code",
   "execution_count": null,
   "metadata": {},
   "outputs": [],
   "source": []
  }
 ],
 "metadata": {
  "kernelspec": {
   "display_name": "base",
   "language": "python",
   "name": "python3"
  },
  "language_info": {
   "codemirror_mode": {
    "name": "ipython",
    "version": 3
   },
   "file_extension": ".py",
   "mimetype": "text/x-python",
   "name": "python",
   "nbconvert_exporter": "python",
   "pygments_lexer": "ipython3",
   "version": "3.9.7"
  },
  "orig_nbformat": 4
 },
 "nbformat": 4,
 "nbformat_minor": 2
}
